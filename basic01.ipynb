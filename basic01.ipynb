{
  "nbformat": 4,
  "nbformat_minor": 0,
  "metadata": {
    "colab": {
      "name": "basic01.ipynb",
      "provenance": [],
      "authorship_tag": "ABX9TyM8FjqU+vrukZ+Z8TUYP6hG",
      "include_colab_link": true
    },
    "kernelspec": {
      "name": "python3",
      "display_name": "Python 3"
    }
  },
  "cells": [
    {
      "cell_type": "markdown",
      "metadata": {
        "id": "view-in-github",
        "colab_type": "text"
      },
      "source": [
        "<a href=\"https://colab.research.google.com/github/sukyami/test/blob/master/basic01.ipynb\" target=\"_parent\"><img src=\"https://colab.research.google.com/assets/colab-badge.svg\" alt=\"Open In Colab\"/></a>"
      ]
    },
    {
      "cell_type": "code",
      "metadata": {
        "id": "iLYqS-mGYTO1"
      },
      "source": [
        "import math"
      ],
      "execution_count": 16,
      "outputs": []
    },
    {
      "cell_type": "markdown",
      "metadata": {
        "id": "eJK-m2UYMNhj"
      },
      "source": [
        "Create five variables \n"
      ]
    },
    {
      "cell_type": "code",
      "metadata": {
        "id": "0aDkc9YULto0"
      },
      "source": [
        "first_name = \"Suk Hyang\"\n",
        "firstName = \"Marc\"\n",
        "FirstName = \"ACE\"\n",
        "FIRSTNAME = \"Sarah\""
      ],
      "execution_count": 4,
      "outputs": []
    },
    {
      "cell_type": "code",
      "metadata": {
        "colab": {
          "base_uri": "https://localhost:8080/"
        },
        "id": "BYkMDwGXM-5F",
        "outputId": "13217df8-2d04-494c-9eec-72a5d610baf5"
      },
      "source": [
        "print(first_name)\n",
        "print(firstName)\n",
        "print(FirstName)\n",
        "print(FIRSTNAME)"
      ],
      "execution_count": 5,
      "outputs": [
        {
          "output_type": "stream",
          "text": [
            "Suk Hyang\n",
            "Marc\n",
            "ACE\n",
            "Sarah\n"
          ],
          "name": "stdout"
        }
      ]
    },
    {
      "cell_type": "markdown",
      "metadata": {
        "id": "GiOOaIf_NwTV"
      },
      "source": [
        "Create 10 Last Name Variables\n"
      ]
    },
    {
      "cell_type": "code",
      "metadata": {
        "id": "yuhaFOZuNv32"
      },
      "source": [
        "last_name = \"Jeong\"\n",
        "last_Name = \"Kazim\"\n",
        "Last_name = \"Elie\"\n",
        "Last_Name = \"Bhigroog\"\n",
        "lastname = \"Mendez\"\n",
        "lastName = \"May\"\n",
        "Lastname = \"Masrur\"\n",
        "LastName = \"Andres\"\n",
        "LAST_NAME = \"Kang\"\n",
        "LASTNAME = \"Liu\""
      ],
      "execution_count": 6,
      "outputs": []
    },
    {
      "cell_type": "code",
      "metadata": {
        "colab": {
          "base_uri": "https://localhost:8080/"
        },
        "id": "HK2lAm3WOh5w",
        "outputId": "6d89e446-c304-4d72-8cbe-5b8fe7195bbf"
      },
      "source": [
        "print(last_name)\n",
        "print(last_Name)\n",
        "print(Last_name)\n",
        "print(Last_Name)\n",
        "print(lastname)\n",
        "print(lastName)\n",
        "print(Lastname)\n",
        "print(LastName)\n",
        "print(LAST_NAME)\n",
        "print(LASTNAME)"
      ],
      "execution_count": 7,
      "outputs": [
        {
          "output_type": "stream",
          "text": [
            "Jeong\n",
            "Kazim\n",
            "Elie\n",
            "Bhigroog\n",
            "Mendez\n",
            "May\n",
            "Masrur\n",
            "Andres\n",
            "Kang\n",
            "Liu\n"
          ],
          "name": "stdout"
        }
      ]
    },
    {
      "cell_type": "code",
      "metadata": {
        "id": "G0xhqtgNPv-6"
      },
      "source": [
        "num = 10"
      ],
      "execution_count": 8,
      "outputs": []
    },
    {
      "cell_type": "code",
      "metadata": {
        "colab": {
          "base_uri": "https://localhost:8080/"
        },
        "id": "7b_Ak6-wPzNx",
        "outputId": "1e012e1b-badb-4174-d7e3-076c7a4623fd"
      },
      "source": [
        "print(first_name)"
      ],
      "execution_count": 9,
      "outputs": [
        {
          "output_type": "stream",
          "text": [
            "Suk Hyang\n"
          ],
          "name": "stdout"
        }
      ]
    },
    {
      "cell_type": "code",
      "metadata": {
        "id": "_tOTSLULP7Kz"
      },
      "source": [
        "first_name = 90 "
      ],
      "execution_count": 10,
      "outputs": []
    },
    {
      "cell_type": "code",
      "metadata": {
        "colab": {
          "base_uri": "https://localhost:8080/"
        },
        "id": "pikJMvmHP9y_",
        "outputId": "3ed631ad-5a30-424a-e824-15516ca68ecf"
      },
      "source": [
        "print(first_name)"
      ],
      "execution_count": 11,
      "outputs": [
        {
          "output_type": "stream",
          "text": [
            "90\n"
          ],
          "name": "stdout"
        }
      ]
    },
    {
      "cell_type": "markdown",
      "metadata": {
        "id": "20zid-qcX2m0"
      },
      "source": [
        "Data Types"
      ]
    },
    {
      "cell_type": "code",
      "metadata": {
        "id": "VzJArcZJQAiV"
      },
      "source": [
        "num5 = 12.9012830982103"
      ],
      "execution_count": 21,
      "outputs": []
    },
    {
      "cell_type": "code",
      "metadata": {
        "colab": {
          "base_uri": "https://localhost:8080/"
        },
        "id": "Bfi_WYWMYGF6",
        "outputId": "c6eb6311-b83e-44b4-98fb-ed70ff9a3c9a"
      },
      "source": [
        "num5 "
      ],
      "execution_count": 22,
      "outputs": [
        {
          "output_type": "execute_result",
          "data": {
            "text/plain": [
              "12.9012830982103"
            ]
          },
          "metadata": {
            "tags": []
          },
          "execution_count": 22
        }
      ]
    },
    {
      "cell_type": "code",
      "metadata": {
        "colab": {
          "base_uri": "https://localhost:8080/"
        },
        "id": "lmMOqIE9YHkw",
        "outputId": "45529a7e-032b-4ced-f9a7-7a78bdcd6461"
      },
      "source": [
        "math.pi"
      ],
      "execution_count": 18,
      "outputs": [
        {
          "output_type": "execute_result",
          "data": {
            "text/plain": [
              "3.141592653589793"
            ]
          },
          "metadata": {
            "tags": []
          },
          "execution_count": 18
        }
      ]
    },
    {
      "cell_type": "code",
      "metadata": {
        "id": "BtrTv9J0ZAa-"
      },
      "source": [
        "num = 7\n",
        "num2 = 5"
      ],
      "execution_count": 23,
      "outputs": []
    },
    {
      "cell_type": "code",
      "metadata": {
        "id": "YN86pQh3YWke"
      },
      "source": [
        "game = True"
      ],
      "execution_count": 19,
      "outputs": []
    },
    {
      "cell_type": "code",
      "metadata": {
        "colab": {
          "base_uri": "https://localhost:8080/"
        },
        "id": "2wFxcyz1Y7cR",
        "outputId": "b2e1a6e5-ebbc-485d-9dd0-9aa8f721bee4"
      },
      "source": [
        "type(num5)"
      ],
      "execution_count": 25,
      "outputs": [
        {
          "output_type": "execute_result",
          "data": {
            "text/plain": [
              "float"
            ]
          },
          "metadata": {
            "tags": []
          },
          "execution_count": 25
        }
      ]
    },
    {
      "cell_type": "code",
      "metadata": {
        "colab": {
          "base_uri": "https://localhost:8080/"
        },
        "id": "AW53jspOY_mM",
        "outputId": "f95dbbf4-bffb-408e-bdee-2d32bb2b07dd"
      },
      "source": [
        "type(game)"
      ],
      "execution_count": 26,
      "outputs": [
        {
          "output_type": "execute_result",
          "data": {
            "text/plain": [
              "bool"
            ]
          },
          "metadata": {
            "tags": []
          },
          "execution_count": 26
        }
      ]
    },
    {
      "cell_type": "code",
      "metadata": {
        "id": "2Z3L4R7YZO5S"
      },
      "source": [
        "list = ['name','time','carrots']"
      ],
      "execution_count": 27,
      "outputs": []
    },
    {
      "cell_type": "code",
      "metadata": {
        "colab": {
          "base_uri": "https://localhost:8080/"
        },
        "id": "qKEL9g9SZZ0A",
        "outputId": "4455ac5e-793a-4620-f452-4da04f9cba08"
      },
      "source": [
        "list"
      ],
      "execution_count": 28,
      "outputs": [
        {
          "output_type": "execute_result",
          "data": {
            "text/plain": [
              "['name', 'time', 'carrots']"
            ]
          },
          "metadata": {
            "tags": []
          },
          "execution_count": 28
        }
      ]
    },
    {
      "cell_type": "markdown",
      "metadata": {
        "id": "cZb_y7iZZhR6"
      },
      "source": [
        "Creat 10 Lists, 10 Bools and 10 Floats"
      ]
    },
    {
      "cell_type": "code",
      "metadata": {
        "id": "4tShVPfsZmBO"
      },
      "source": [
        "list1 = [1,2,3]\n",
        "list2 = ['4','5','6']\n",
        "list3 = ['7','8','9']\n",
        "list4 = ['10','11','12']\n",
        "list5 = ['13','14','15']\n",
        "list6 = ['16','17','18']\n",
        "list7 = ['19','20','21']\n",
        "list8 = [\"22\",\"23\",\"24\"]\n",
        "list9 = ['25',26,game]\n",
        "list10 = ['A','B','C']\n",
        "\n",
        "game1 = True\n",
        "game2 = False\n",
        "game3 = 0\n",
        "game4 = 1\n",
        "game5 = 2\n",
        "game6 = True\n",
        "game7 = False\n",
        "game8 = True\n",
        "game9 = True\n",
        "game10 = True\n",
        "\n",
        "number1 = 0.0003\n",
        "number2 = 4.00\n",
        "number3 = 12.230490\n",
        "number4 = math.pi\n",
        "number5 = math.sin(45)\n",
        "number6 = 2.2313\n",
        "number7 = math.tan(20)\n",
        "number8 = 100.0000\n",
        "number9 = 3.04\n",
        "number10 = math.pow(1.2,2)"
      ],
      "execution_count": 32,
      "outputs": []
    },
    {
      "cell_type": "code",
      "metadata": {
        "colab": {
          "base_uri": "https://localhost:8080/"
        },
        "id": "de06m486ZzgY",
        "outputId": "6d28e4d5-ea04-432a-8111-0d2f8f9db4e8"
      },
      "source": [
        "list1\n",
        "list2\n",
        "list3\n",
        "list4\n",
        "list5\n",
        "list6\n",
        "list7\n",
        "list8\n",
        "list9\n",
        "list10\n",
        "\n",
        "game1\n",
        "game2\n",
        "game3\n",
        "game4\n",
        "game5\n",
        "game6\n",
        "game7\n",
        "game8\n",
        "game9\n",
        "game10\n",
        "\n",
        "number1\n",
        "number2\n",
        "number3\n",
        "number4\n",
        "number5\n",
        "number6\n",
        "number7\n",
        "number8\n",
        "number9\n",
        "number10"
      ],
      "execution_count": 33,
      "outputs": [
        {
          "output_type": "execute_result",
          "data": {
            "text/plain": [
              "1.44"
            ]
          },
          "metadata": {
            "tags": []
          },
          "execution_count": 33
        }
      ]
    },
    {
      "cell_type": "code",
      "metadata": {
        "id": "Kijr8O8ScB_d"
      },
      "source": [
        ""
      ],
      "execution_count": null,
      "outputs": []
    }
  ]
}